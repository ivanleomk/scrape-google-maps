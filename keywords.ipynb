{
 "cells": [
  {
   "cell_type": "code",
   "execution_count": 123,
   "metadata": {
    "id": "FwJtTdlnABEg",
    "scrolled": true
   },
   "outputs": [],
   "source": [
    "from pydantic import BaseModel\n",
    "import pandas as pd\n",
    "import numpy as np\n",
    "import yake\n",
    "import openai\n",
    "\n",
    "from typing import List\n",
    "import csv"
   ]
  },
  {
   "cell_type": "code",
   "execution_count": 24,
   "metadata": {
    "scrolled": true
   },
   "outputs": [],
   "source": [
    "load_dotenv()\n",
    "openai_api_key = os.environ.get('OPENAI_API_KEY')\n",
    "openai.api_key = openai_api_key"
   ]
  },
  {
   "cell_type": "code",
   "execution_count": 13,
   "metadata": {
    "id": "Npti_-GRB8di",
    "scrolled": true
   },
   "outputs": [],
   "source": [
    "class keyword(BaseModel):\n",
    "    keyword: str\n",
    "    relevant: int"
   ]
  },
  {
   "cell_type": "code",
   "execution_count": 15,
   "metadata": {
    "id": "ONitIB--ADlD",
    "scrolled": true
   },
   "outputs": [],
   "source": [
    "df = pd.read_csv(\"./item_with_ratings.csv\")"
   ]
  },
  {
   "cell_type": "code",
   "execution_count": 16,
   "metadata": {
    "colab": {
     "base_uri": "https://localhost:8080/"
    },
    "id": "Cr62QCsfALgs",
    "outputId": "3630e4c2-4bdc-4fd3-d333-746138ec6f0f",
    "scrolled": true
   },
   "outputs": [
    {
     "data": {
      "text/plain": [
       "Index(['title', 'rating', 'number_of_reviews', 'address', 'review',\n",
       "       'hasDelivery', 'hasTakeaway', 'hasDineIn', 'category', 'status', 'url',\n",
       "       'long', 'lat', 'country'],\n",
       "      dtype='object')"
      ]
     },
     "execution_count": 16,
     "metadata": {},
     "output_type": "execute_result"
    }
   ],
   "source": [
    "df.columns"
   ]
  },
  {
   "cell_type": "code",
   "execution_count": 44,
   "metadata": {},
   "outputs": [
    {
     "data": {
      "text/html": [
       "<div>\n",
       "<style scoped>\n",
       "    .dataframe tbody tr th:only-of-type {\n",
       "        vertical-align: middle;\n",
       "    }\n",
       "\n",
       "    .dataframe tbody tr th {\n",
       "        vertical-align: top;\n",
       "    }\n",
       "\n",
       "    .dataframe thead th {\n",
       "        text-align: right;\n",
       "    }\n",
       "</style>\n",
       "<table border=\"1\" class=\"dataframe\">\n",
       "  <thead>\n",
       "    <tr style=\"text-align: right;\">\n",
       "      <th></th>\n",
       "      <th>title</th>\n",
       "      <th>rating</th>\n",
       "      <th>number_of_reviews</th>\n",
       "      <th>address</th>\n",
       "      <th>review</th>\n",
       "      <th>hasDelivery</th>\n",
       "      <th>hasTakeaway</th>\n",
       "      <th>hasDineIn</th>\n",
       "      <th>category</th>\n",
       "      <th>status</th>\n",
       "      <th>url</th>\n",
       "      <th>long</th>\n",
       "      <th>lat</th>\n",
       "      <th>country</th>\n",
       "    </tr>\n",
       "  </thead>\n",
       "  <tbody>\n",
       "    <tr>\n",
       "      <th>0</th>\n",
       "      <td>Natter Coffee &amp; Gelato</td>\n",
       "      <td>6</td>\n",
       "      <td>111</td>\n",
       "      <td>124 Tg Pagar Rd, Singapore 088533</td>\n",
       "      <td>Good option for ice cream and coffee. Decor ki...</td>\n",
       "      <td>False</td>\n",
       "      <td>True</td>\n",
       "      <td>True</td>\n",
       "      <td>Coffee shop</td>\n",
       "      <td>Open</td>\n",
       "      <td>https://www.google.com/maps/place/Natter+Coffe...</td>\n",
       "      <td>1.277715</td>\n",
       "      <td>103.843490</td>\n",
       "      <td>Singapore</td>\n",
       "    </tr>\n",
       "    <tr>\n",
       "      <th>1</th>\n",
       "      <td>Kinki Restaurant + Bar</td>\n",
       "      <td>5</td>\n",
       "      <td>1220</td>\n",
       "      <td>70, #02-02 Collyer Quay, Customs House, 049323</td>\n",
       "      <td>3/5 - You pay for the view but the food isnt a...</td>\n",
       "      <td>False</td>\n",
       "      <td>True</td>\n",
       "      <td>True</td>\n",
       "      <td>Japanese restaurant</td>\n",
       "      <td>Open</td>\n",
       "      <td>https://www.google.com/maps/place/Kinki+Restau...</td>\n",
       "      <td>1.282491</td>\n",
       "      <td>103.853475</td>\n",
       "      <td>Singapore</td>\n",
       "    </tr>\n",
       "    <tr>\n",
       "      <th>2</th>\n",
       "      <td>Pastaria Abate</td>\n",
       "      <td>5</td>\n",
       "      <td>1563</td>\n",
       "      <td>86 Neil Rd, Singapore 088846</td>\n",
       "      <td>3/5 - Only good for the miles and even then, n...</td>\n",
       "      <td>True</td>\n",
       "      <td>True</td>\n",
       "      <td>True</td>\n",
       "      <td>Restaurant</td>\n",
       "      <td>Open</td>\n",
       "      <td>https://www.google.com/maps/place/Pastaria+Aba...</td>\n",
       "      <td>1.279604</td>\n",
       "      <td>103.842173</td>\n",
       "      <td>Singapore</td>\n",
       "    </tr>\n",
       "    <tr>\n",
       "      <th>3</th>\n",
       "      <td>Underdog Inn</td>\n",
       "      <td>7</td>\n",
       "      <td>42</td>\n",
       "      <td>115 Amoy Street, Gemmill Ln, #01-03 Along, 069935</td>\n",
       "      <td>4/5 - Nice environment chill vibes. Not sure o...</td>\n",
       "      <td>True</td>\n",
       "      <td>True</td>\n",
       "      <td>True</td>\n",
       "      <td>Restaurant</td>\n",
       "      <td>Open</td>\n",
       "      <td>https://www.google.com/maps/place/Underdog+Inn...</td>\n",
       "      <td>1.282287</td>\n",
       "      <td>103.847485</td>\n",
       "      <td>Singapore</td>\n",
       "    </tr>\n",
       "    <tr>\n",
       "      <th>4</th>\n",
       "      <td>Sonny's Pizza</td>\n",
       "      <td>5</td>\n",
       "      <td>173</td>\n",
       "      <td>17 Circular Rd, Singapore 049373</td>\n",
       "      <td>3/5 - No frills bodega style pizza with some c...</td>\n",
       "      <td>True</td>\n",
       "      <td>True</td>\n",
       "      <td>True</td>\n",
       "      <td>Pizza restaurant</td>\n",
       "      <td>Open</td>\n",
       "      <td>https://www.google.com/maps/place/Sonny's+Pizz...</td>\n",
       "      <td>1.287440</td>\n",
       "      <td>103.848941</td>\n",
       "      <td>Singapore</td>\n",
       "    </tr>\n",
       "  </tbody>\n",
       "</table>\n",
       "</div>"
      ],
      "text/plain": [
       "                    title  rating  number_of_reviews  \\\n",
       "0  Natter Coffee & Gelato       6                111   \n",
       "1  Kinki Restaurant + Bar       5               1220   \n",
       "2          Pastaria Abate       5               1563   \n",
       "3            Underdog Inn       7                 42   \n",
       "4           Sonny's Pizza       5                173   \n",
       "\n",
       "                                             address  \\\n",
       "0                  124 Tg Pagar Rd, Singapore 088533   \n",
       "1     70, #02-02 Collyer Quay, Customs House, 049323   \n",
       "2                       86 Neil Rd, Singapore 088846   \n",
       "3  115 Amoy Street, Gemmill Ln, #01-03 Along, 069935   \n",
       "4                   17 Circular Rd, Singapore 049373   \n",
       "\n",
       "                                              review  hasDelivery  \\\n",
       "0  Good option for ice cream and coffee. Decor ki...        False   \n",
       "1  3/5 - You pay for the view but the food isnt a...        False   \n",
       "2  3/5 - Only good for the miles and even then, n...         True   \n",
       "3  4/5 - Nice environment chill vibes. Not sure o...         True   \n",
       "4  3/5 - No frills bodega style pizza with some c...         True   \n",
       "\n",
       "   hasTakeaway  hasDineIn             category status  \\\n",
       "0         True       True          Coffee shop   Open   \n",
       "1         True       True  Japanese restaurant   Open   \n",
       "2         True       True           Restaurant   Open   \n",
       "3         True       True           Restaurant   Open   \n",
       "4         True       True     Pizza restaurant   Open   \n",
       "\n",
       "                                                 url      long         lat  \\\n",
       "0  https://www.google.com/maps/place/Natter+Coffe...  1.277715  103.843490   \n",
       "1  https://www.google.com/maps/place/Kinki+Restau...  1.282491  103.853475   \n",
       "2  https://www.google.com/maps/place/Pastaria+Aba...  1.279604  103.842173   \n",
       "3  https://www.google.com/maps/place/Underdog+Inn...  1.282287  103.847485   \n",
       "4  https://www.google.com/maps/place/Sonny's+Pizz...  1.287440  103.848941   \n",
       "\n",
       "     country  \n",
       "0  Singapore  \n",
       "1  Singapore  \n",
       "2  Singapore  \n",
       "3  Singapore  \n",
       "4  Singapore  "
      ]
     },
     "execution_count": 44,
     "metadata": {},
     "output_type": "execute_result"
    }
   ],
   "source": [
    "df.head(5)"
   ]
  },
  {
   "cell_type": "code",
   "execution_count": 46,
   "metadata": {},
   "outputs": [],
   "source": [
    "class Location(BaseModel):\n",
    "    title:str\n",
    "    rating:float\n",
    "    number_of_reviews:int\n",
    "    user_review:str\n",
    "    categories:list[str]"
   ]
  },
  {
   "cell_type": "code",
   "execution_count": 50,
   "metadata": {},
   "outputs": [],
   "source": [
    "locations = []\n",
    "\n",
    "for row in df.itertuples():\n",
    "    location = Location(\n",
    "        title = row.title,\n",
    "        rating = row.rating/2,\n",
    "        number_of_reviews = row.number_of_reviews,\n",
    "        user_review=row.review,\n",
    "        categories = [row.category]\n",
    "    )\n",
    "    locations.append(location)"
   ]
  },
  {
   "cell_type": "code",
   "execution_count": 51,
   "metadata": {},
   "outputs": [
    {
     "data": {
      "text/plain": [
       "80"
      ]
     },
     "execution_count": 51,
     "metadata": {},
     "output_type": "execute_result"
    }
   ],
   "source": [
    "len(locations)"
   ]
  },
  {
   "cell_type": "code",
   "execution_count": 17,
   "metadata": {
    "id": "-0_zshM9AJ7N",
    "scrolled": true
   },
   "outputs": [],
   "source": [
    "kw_extractor = yake.KeywordExtractor()\n",
    "keywords = set([])\n",
    "\n",
    "for row in df.itertuples():\n",
    "    formatted_string = f\"title: {row.title}, review: {row.review}, category: {row.category}\"\n",
    "    new_keywords = kw_extractor.extract_keywords(formatted_string)\n",
    "    extracted_keywords = [x[0] for x in new_keywords]\n",
    "    for extracted_keyword in extracted_keywords:\n",
    "      keywords.add(extracted_keyword)"
   ]
  },
  {
   "cell_type": "code",
   "execution_count": 91,
   "metadata": {
    "colab": {
     "base_uri": "https://localhost:8080/"
    },
    "id": "fj03fB3vNtc3",
    "outputId": "18ff50a4-315e-440f-aad2-6c7d8a6df8be",
    "scrolled": true
   },
   "outputs": [],
   "source": [
    "class Tags(BaseModel):\n",
    "    categories: List[str]\n",
    "        \n",
    "def generate_categories(keywords):\n",
    "    keywords_with_new_lines = '\\n'.join(keywords)\n",
    "\n",
    "    prompt = f\"\"\"\n",
    "    Invent categories for some restaurants. You are about to be provided with a brief description of a restrautn from google maps.\n",
    "    \n",
    "    Here are some categories that we have. Only consider english categories.\n",
    "    {keywords_with_new_lines}\n",
    "    \n",
    "    Create 30 short categories that semantically group these keywords.\n",
    "    \n",
    "    Think step by step\n",
    "    \"\"\"\n",
    "    \n",
    "    response = openai.ChatCompletion.create(\n",
    "        model = \"gpt-3.5-turbo-16k\",\n",
    "        messages = [\n",
    "            {'role':'user','content':prompt}\n",
    "        ],\n",
    "        functions = [\n",
    "            {\n",
    "                'name': 'output_categories',\n",
    "                'description': 'The final list of categories',\n",
    "                'parameters':Tags.schema()\n",
    "            }\n",
    "        ],\n",
    "        function_call={\n",
    "            'name':'output_categories'\n",
    "        }\n",
    "    )\n",
    "    \n",
    "    parsed_json = response.choices[0][\"message\"][\"function_call\"][\"arguments\"]\n",
    "    categories = json.loads(parsed_json)[\"categories\"]\n",
    "    return categories\n",
    "\n",
    "res = generate_categories(list(keywords))"
   ]
  },
  {
   "cell_type": "code",
   "execution_count": 102,
   "metadata": {},
   "outputs": [
    {
     "data": {
      "text/plain": [
       "['Dessert shop',\n",
       " 'Drinks',\n",
       " 'Mexican restaurant',\n",
       " 'Chinese restaurant',\n",
       " 'Roast Meat',\n",
       " 'Coffee shop',\n",
       " 'Bakery',\n",
       " 'Japanese restaurant',\n",
       " 'Ice cream shop',\n",
       " 'Falafel restaurant',\n",
       " 'Italian restaurant',\n",
       " 'Hawker Stall',\n",
       " 'Bar',\n",
       " 'Noodle shop',\n",
       " 'French restaurant',\n",
       " 'Café',\n",
       " 'Seafood restaurant',\n",
       " 'Pizza restaurant',\n",
       " 'Korean restaurant',\n",
       " 'Brunch spot',\n",
       " 'Burger joint',\n",
       " 'Vegetarian restaurant',\n",
       " 'Indian restaurant',\n",
       " 'Steakhouse',\n",
       " 'Sushi restaurant',\n",
       " 'Thai restaurant',\n",
       " 'Vietnamese restaurant',\n",
       " 'BBQ restaurant',\n",
       " 'Chinese noodle restaurant',\n",
       " 'Tapas restaurant',\n",
       " 'Food court']"
      ]
     },
     "execution_count": 102,
     "metadata": {},
     "output_type": "execute_result"
    }
   ],
   "source": [
    "exclude = []\n",
    "categories = [i for i in res if i not in exclude]\n",
    "categories"
   ]
  },
  {
   "cell_type": "code",
   "execution_count": 115,
   "metadata": {},
   "outputs": [],
   "source": [
    "@retry(tries=3, delay=2)\n",
    "def tag_restaurant(location:Location,categories:list[str]):\n",
    "    joined_categories = '\\n'.join(categories)\n",
    "    prompt = f\"\"\"\n",
    "    Given a Restaurant title and a candid user review, return a new list of 4 categories for the following restaurant\n",
    "    \n",
    "    You can use the following categories\n",
    "    {joined_categories}\n",
    "    \n",
    "    Restaurant Title: {location.title},\n",
    "    Existing Categories: [{','.join(location.categories)}]\n",
    "    User Review: {location.user_review}\n",
    "    \n",
    "    You MUST only response with each chose category separated by a new line.\n",
    "    You MUST not say anything after finishing.\n",
    "    Your response will be used to tag the paper so don't say anything!\n",
    "    \n",
    "    The 4 Categories:\n",
    "    \"\"\"\n",
    "    \n",
    "    response = openai.ChatCompletion.create(\n",
    "        model = \"gpt-3.5-turbo-16k\",\n",
    "        messages = [\n",
    "            {'role':'user','content':prompt}\n",
    "        ]\n",
    "    )\n",
    "    return response[\"choices\"][0][\"message\"][\"content\"].split(\"\\n\")"
   ]
  },
  {
   "cell_type": "code",
   "execution_count": 110,
   "metadata": {},
   "outputs": [
    {
     "data": {
      "text/plain": [
       "Location(title='Aisyah Restaurant 西北香', rating=4.0, number_of_reviews=375, user_review='Lamb noodles were fantastic . They have a second floor with air conditioning which is the better option', categories=['Chinese restaurant'])"
      ]
     },
     "execution_count": 110,
     "metadata": {},
     "output_type": "execute_result"
    }
   ],
   "source": []
  },
  {
   "cell_type": "code",
   "execution_count": 119,
   "metadata": {},
   "outputs": [],
   "source": [
    "parsed_locations = []\n",
    "\n",
    "for location in locations:\n",
    "    new_categories = tag_restaurant(location,categories)\n",
    "    new_location = location.copy()\n",
    "    new_location.categories.extend(new_categories)\n",
    "    \n",
    "    unique_categories = list(\n",
    "        set(\n",
    "            [i.lower().strip() for i in new_location.categories]\n",
    "        )\n",
    "    )\n",
    "    \n",
    "    new_location.categories = [i.title() for i in unique_categories]\n",
    "    \n",
    "    parsed_locations.append(new_location)"
   ]
  },
  {
   "cell_type": "code",
   "execution_count": 124,
   "metadata": {},
   "outputs": [],
   "source": [
    "def write_locations_to_csv(locations: List[Location], file_name: str):\n",
    "    fieldnames = list(Location.schema()[\"properties\"].keys())\n",
    "\n",
    "    with open(file_name, \"w\", newline='') as csvfile:\n",
    "        writer = csv.DictWriter(csvfile, fieldnames=fieldnames)\n",
    "        writer.writeheader()\n",
    "\n",
    "        for location in locations:\n",
    "            writer.writerow(location.dict())\n",
    "\n",
    "write_locations_to_csv(parsed_locations, \"locations.csv\")"
   ]
  },
  {
   "cell_type": "code",
   "execution_count": 125,
   "metadata": {},
   "outputs": [],
   "source": [
    "df = pd.read_csv(\"./locations.csv\")"
   ]
  },
  {
   "cell_type": "code",
   "execution_count": 138,
   "metadata": {},
   "outputs": [
    {
     "data": {
      "text/html": [
       "<div>\n",
       "<style scoped>\n",
       "    .dataframe tbody tr th:only-of-type {\n",
       "        vertical-align: middle;\n",
       "    }\n",
       "\n",
       "    .dataframe tbody tr th {\n",
       "        vertical-align: top;\n",
       "    }\n",
       "\n",
       "    .dataframe thead th {\n",
       "        text-align: right;\n",
       "    }\n",
       "</style>\n",
       "<table border=\"1\" class=\"dataframe\">\n",
       "  <thead>\n",
       "    <tr style=\"text-align: right;\">\n",
       "      <th></th>\n",
       "      <th>title</th>\n",
       "      <th>rating</th>\n",
       "      <th>number_of_reviews</th>\n",
       "      <th>user_review</th>\n",
       "      <th>categories</th>\n",
       "    </tr>\n",
       "  </thead>\n",
       "  <tbody>\n",
       "    <tr>\n",
       "      <th>0</th>\n",
       "      <td>Natter Coffee &amp; Gelato</td>\n",
       "      <td>3.0</td>\n",
       "      <td>111</td>\n",
       "      <td>Good option for ice cream and coffee. Decor ki...</td>\n",
       "      <td>['Dessert Shop', 'Café', 'Coffee Shop', 'Ice C...</td>\n",
       "    </tr>\n",
       "    <tr>\n",
       "      <th>1</th>\n",
       "      <td>Kinki Restaurant + Bar</td>\n",
       "      <td>2.5</td>\n",
       "      <td>1220</td>\n",
       "      <td>3/5 - You pay for the view but the food isnt a...</td>\n",
       "      <td>['Japanese Restaurant', 'View', 'Bar', 'Price']</td>\n",
       "    </tr>\n",
       "    <tr>\n",
       "      <th>2</th>\n",
       "      <td>Pastaria Abate</td>\n",
       "      <td>2.5</td>\n",
       "      <td>1563</td>\n",
       "      <td>3/5 - Only good for the miles and even then, n...</td>\n",
       "      <td>['Café', 'Italian Restaurant', 'Bbq Restaurant...</td>\n",
       "    </tr>\n",
       "    <tr>\n",
       "      <th>3</th>\n",
       "      <td>Underdog Inn</td>\n",
       "      <td>3.5</td>\n",
       "      <td>42</td>\n",
       "      <td>4/5 - Nice environment chill vibes. Not sure o...</td>\n",
       "      <td>['Café', 'Bbq Restaurant', 'Food Court', 'Brun...</td>\n",
       "    </tr>\n",
       "    <tr>\n",
       "      <th>4</th>\n",
       "      <td>Sonny's Pizza</td>\n",
       "      <td>2.5</td>\n",
       "      <td>173</td>\n",
       "      <td>3/5 - No frills bodega style pizza with some c...</td>\n",
       "      <td>['Craft Beer', 'Casual Dining', 'Pizza Restaur...</td>\n",
       "    </tr>\n",
       "    <tr>\n",
       "      <th>...</th>\n",
       "      <td>...</td>\n",
       "      <td>...</td>\n",
       "      <td>...</td>\n",
       "      <td>...</td>\n",
       "      <td>...</td>\n",
       "    </tr>\n",
       "    <tr>\n",
       "      <th>75</th>\n",
       "      <td>Swee Lee Social Club</td>\n",
       "      <td>2.5</td>\n",
       "      <td>250</td>\n",
       "      <td>In a music shop nice picolo</td>\n",
       "      <td>['Japanese Restaurant', 'Coffee Shop', 'Bakery...</td>\n",
       "    </tr>\n",
       "    <tr>\n",
       "      <th>76</th>\n",
       "      <td>Dewgather</td>\n",
       "      <td>2.5</td>\n",
       "      <td>372</td>\n",
       "      <td>Coffee is at best average but the ambience is ...</td>\n",
       "      <td>['Café', 'Drinks', 'Coffee Shop', 'Bakery', 'R...</td>\n",
       "    </tr>\n",
       "    <tr>\n",
       "      <th>77</th>\n",
       "      <td>Xin Mei Xiang Zheng Zong Lor Mee 新美香正宗卤面 Holland</td>\n",
       "      <td>3.0</td>\n",
       "      <td>111</td>\n",
       "      <td>NaN</td>\n",
       "      <td>['Noodle Shop', 'Food Court', 'Chinese Restaur...</td>\n",
       "    </tr>\n",
       "    <tr>\n",
       "      <th>78</th>\n",
       "      <td>Monument Lifestyle at Duxton Road</td>\n",
       "      <td>4.0</td>\n",
       "      <td>227</td>\n",
       "      <td>I enjoyed their Picolo ( Latte with two shots ...</td>\n",
       "      <td>['Café', 'Coffee Shop', 'Bakery', 'Brunch Spot...</td>\n",
       "    </tr>\n",
       "    <tr>\n",
       "      <th>79</th>\n",
       "      <td>Aisyah Restaurant 西北香</td>\n",
       "      <td>4.0</td>\n",
       "      <td>375</td>\n",
       "      <td>Lamb noodles were fantastic . They have a seco...</td>\n",
       "      <td>['Food Court', 'Noodle Shop', 'Chinese Restaur...</td>\n",
       "    </tr>\n",
       "  </tbody>\n",
       "</table>\n",
       "<p>80 rows × 5 columns</p>\n",
       "</div>"
      ],
      "text/plain": [
       "                                               title  rating  \\\n",
       "0                             Natter Coffee & Gelato     3.0   \n",
       "1                             Kinki Restaurant + Bar     2.5   \n",
       "2                                     Pastaria Abate     2.5   \n",
       "3                                       Underdog Inn     3.5   \n",
       "4                                      Sonny's Pizza     2.5   \n",
       "..                                               ...     ...   \n",
       "75                              Swee Lee Social Club     2.5   \n",
       "76                                         Dewgather     2.5   \n",
       "77  Xin Mei Xiang Zheng Zong Lor Mee 新美香正宗卤面 Holland     3.0   \n",
       "78                 Monument Lifestyle at Duxton Road     4.0   \n",
       "79                             Aisyah Restaurant 西北香     4.0   \n",
       "\n",
       "    number_of_reviews                                        user_review  \\\n",
       "0                 111  Good option for ice cream and coffee. Decor ki...   \n",
       "1                1220  3/5 - You pay for the view but the food isnt a...   \n",
       "2                1563  3/5 - Only good for the miles and even then, n...   \n",
       "3                  42  4/5 - Nice environment chill vibes. Not sure o...   \n",
       "4                 173  3/5 - No frills bodega style pizza with some c...   \n",
       "..                ...                                                ...   \n",
       "75                250                       In a music shop nice picolo    \n",
       "76                372  Coffee is at best average but the ambience is ...   \n",
       "77                111                                                NaN   \n",
       "78                227  I enjoyed their Picolo ( Latte with two shots ...   \n",
       "79                375  Lamb noodles were fantastic . They have a seco...   \n",
       "\n",
       "                                           categories  \n",
       "0   ['Dessert Shop', 'Café', 'Coffee Shop', 'Ice C...  \n",
       "1     ['Japanese Restaurant', 'View', 'Bar', 'Price']  \n",
       "2   ['Café', 'Italian Restaurant', 'Bbq Restaurant...  \n",
       "3   ['Café', 'Bbq Restaurant', 'Food Court', 'Brun...  \n",
       "4   ['Craft Beer', 'Casual Dining', 'Pizza Restaur...  \n",
       "..                                                ...  \n",
       "75  ['Japanese Restaurant', 'Coffee Shop', 'Bakery...  \n",
       "76  ['Café', 'Drinks', 'Coffee Shop', 'Bakery', 'R...  \n",
       "77  ['Noodle Shop', 'Food Court', 'Chinese Restaur...  \n",
       "78  ['Café', 'Coffee Shop', 'Bakery', 'Brunch Spot...  \n",
       "79  ['Food Court', 'Noodle Shop', 'Chinese Restaur...  \n",
       "\n",
       "[80 rows x 5 columns]"
      ]
     },
     "execution_count": 138,
     "metadata": {},
     "output_type": "execute_result"
    }
   ],
   "source": [
    "df\n"
   ]
  },
  {
   "cell_type": "code",
   "execution_count": 137,
   "metadata": {},
   "outputs": [
    {
     "name": "stdout",
     "output_type": "stream",
     "text": [
      "{'View', 'Bagel Shop', 'Pizza Restaurant', 'Bistro', 'Chocolate Shop', 'Spicy Food', 'Snail', 'Hawker Stall', 'Roast Meat', 'Coffee Store', 'Dessert Restaurant', 'Banh Mi', 'Interior Design', 'Chill Vibes', 'Drinks', 'Tapas Restaurant', 'Late Night Spot', 'Snack Bar', 'Breakfast Spot', 'Street Food Stall', 'Brewery', 'Average Restaurant', 'Lamb Shoulder', 'Sesame Themed Dessert Shop', 'Bbq Restaurant', 'French Restaurant', 'Outdoor Activities', 'Izakaya Restaurant', 'Italian Restaurant', 'Chill-Out Place', 'Duck Breast', 'Falafel Restaurant', 'Japanese Restaurant', 'Bar', 'Argentinian Restaurant', 'Vietnamese Restaurant', 'Used Motorcycle Dealer', 'Mapo Tofu Dish', 'Work-Friendly Café', 'Tea', 'Ice Cream Shop', 'Bone Marrow', 'Rice Dish', 'Restaurant', 'Value For Money', 'Chill Spot', 'Dessert Shop', 'Price', 'Empanada Restaurant', 'Craft Beer', 'Indonesian Restaurant', 'Korean Restaurant', 'Traditional Cuisine', 'Taiwanese Restaurant', 'Creperie', 'Sushi Restaurant', 'Oily', 'Mexican Restaurant', 'Sandwich Shop', 'Cocktail Bar', 'Tourist Friendly', 'Sichuan Cuisine', 'Artisan Gelato', 'Side Dishes.', 'Burger Joint', 'Seafood Restaurant', 'Café', 'Balinese Restaurant', 'Affordable Restaurant', 'Coffee Shop', 'Casual Dining', 'Dumpling Shop', 'Vegetarian Restaurant', 'Decent Coffee', 'Eastern European Restaurant', 'Chinese Noodle Restaurant', 'Noodle Shop', 'Cafe', 'Roof Top Bar', 'Lamb Dish', 'Ambience', 'Brunch Spot', 'Meat Dish Restaurant', 'Steakhouse', 'Meal', 'Salty Duck', 'Waffle Shop', 'Dinner Spot', 'Water Sports', 'Happy Hour', 'Bakery', 'Rice Shop', 'Street Food', 'Food Court', 'Chinese Restaurant'}\n"
     ]
    }
   ],
   "source": [
    "category_set = set()\n",
    "parsed_categories = [[j.strip() for j in i[1:-1].replace(\"'\",\"\").split(\",\")] for i in df[\"categories\"].to_list()]\n",
    "for cat_list in parsed_categories:\n",
    "    for cat in cat_list:\n",
    "        category_set.add(cat)\n",
    "\n",
    "print(category_set)"
   ]
  }
 ],
 "metadata": {
  "colab": {
   "provenance": []
  },
  "kernelspec": {
   "display_name": ".virtual",
   "language": "python",
   "name": ".virtual"
  },
  "language_info": {
   "codemirror_mode": {
    "name": "ipython",
    "version": 3
   },
   "file_extension": ".py",
   "mimetype": "text/x-python",
   "name": "python",
   "nbconvert_exporter": "python",
   "pygments_lexer": "ipython3",
   "version": "3.10.1"
  }
 },
 "nbformat": 4,
 "nbformat_minor": 1
}
